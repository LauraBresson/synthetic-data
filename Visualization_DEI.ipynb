{
 "cells": [
  {
   "cell_type": "markdown",
   "id": "86dea9eb-ec15-44f3-bd5a-804710d317c8",
   "metadata": {},
   "source": [
    "# Creating HR data visualizations using Matplotlib and Seaborn"
   ]
  },
  {
   "cell_type": "code",
   "execution_count": null,
   "id": "208e9d26-ce22-4ec5-b539-15e7a254efa2",
   "metadata": {},
   "outputs": [],
   "source": [
    "# data analysis libraries\n",
    "import numpy as np\n",
    "import pandas as pd\n",
    "import scipy\n",
    "\n",
    "# data visualization libraries\n",
    "import matplotlib.pyplot as plt\n",
    "import seaborn as sns\n",
    "import geopandas as gpd\n",
    "\n",
    "import warnings\n",
    "warnings.filterwarnings(\"ignore\")"
   ]
  },
  {
   "cell_type": "code",
   "execution_count": null,
   "id": "d0973881-33d0-4d6d-bb84-3287d44ca657",
   "metadata": {},
   "outputs": [],
   "source": [
    "# load the input file as dataframe\n",
    "dei_data = pd.read_csv(filepath_or_buffer='records.csv')\n",
    "dei_data.sample(n=5)"
   ]
  },
  {
   "cell_type": "code",
   "execution_count": null,
   "id": "413b2af8-9746-4d64-89bb-bfe8ba1b4809",
   "metadata": {},
   "outputs": [],
   "source": [
    "# categorical data profiling with formatted outputs\n",
    "def category_profiling(df, columns):\n",
    "    print(df.nunique())\n",
    "    print(\"---\")\n",
    "    for col in columns:\n",
    "        percentages = df[col].value_counts(normalize=True).mul(100).round(1).astype(str)+'%'\n",
    "        print(percentages)\n",
    "        print(\"---\")\n",
    "\n",
    "columns = ['department', 'province', 'level', 'gender', 'ethnicity']\n",
    "\n",
    "category_profiling(dei_data, columns)"
   ]
  },
  {
   "cell_type": "markdown",
   "id": "1bb8c2e2-d948-45e9-91f2-37b6df39004b",
   "metadata": {},
   "source": [
    "## Analysis of age"
   ]
  },
  {
   "cell_type": "code",
   "execution_count": null,
   "id": "c7b3a151-2b8c-4807-96bc-bf3a8460b91e",
   "metadata": {},
   "outputs": [],
   "source": [
    "# simple data profiling on the age column\n",
    "print(f\"Age: min= {dei_data['age'].min()}\")\n",
    "print(f\"Age: max= {dei_data['age'].max()}\")\n",
    "print(f\"Age: avg= {dei_data['age'].mean().round(0)}\")\n",
    "print(f\"Age: stdev= {dei_data['age'].std()}\")\n",
    "print(f\"Age: 1st quart= {np.percentile(a= dei_data['age'], q= 25)}\")\n",
    "print(f\"Age: 2nd quart= {np.percentile(a= dei_data['age'], q= 50)}\")\n",
    "print(f\"Age: 3rd quart= {np.percentile(a= dei_data['age'], q= 75)}\")\n",
    "\n",
    "# advanced statistical measures\n",
    "from scipy.stats import skew\n",
    "print(f\"Age: skew= {skew(dei_data['age'], axis=0, bias=True)}\")\n",
    "\n",
    "from scipy.stats import kurtosis\n",
    "print(f\"Age: kurtosis= {kurtosis(dei_data['age'], axis=0, fisher=True, bias=True)}\")"
   ]
  },
  {
   "cell_type": "code",
   "execution_count": null,
   "id": "a838ad61-5051-4812-b9fa-3de80daddd69",
   "metadata": {},
   "outputs": [],
   "source": [
    "# distribution bar graph of ages\n",
    "age_graph_data = dei_data['age'].value_counts().sort_index()\n",
    "\n",
    "plt.figure(figsize=(10, 5))\n",
    "plt.bar(age_graph_data.index, age_graph_data.values, \n",
    "        color= 'blue', width= 0.6)\n",
    "plt.xlabel('Age')\n",
    "plt.ylabel('Frequency')\n",
    "plt.title('Distribution of ages')\n",
    "plt.show()"
   ]
  },
  {
   "cell_type": "code",
   "execution_count": null,
   "id": "a0ac92da-179e-41bd-8671-72d551649f33",
   "metadata": {},
   "outputs": [],
   "source": [
    "# convert Age to numeric for preparation\n",
    "dei_data['age'] = pd.to_numeric(dei_data['age'])\n",
    "\n",
    "# creating age bins (e.g., 22-30, 31-40, 41-50, 51-60, 61-70)\n",
    "bins= [22, 31, 41, 51, 61, 71]\n",
    "labels= ['22-30', '31-40', '41-50', '51-60', '61-70']\n",
    "dei_data['AgeGroup']= pd.cut(x= dei_data['age'], \n",
    "                             bins= bins,\n",
    "                             labels= labels,\n",
    "                             right= False)\n",
    "\n",
    "# count of individuals per age group by gender\n",
    "df_agg= dei_data.groupby(['AgeGroup', 'gender']).size().unstack(\n",
    "    fill_value=0)\n",
    "df_agg= df_agg.reset_index()\n",
    "df_agg"
   ]
  },
  {
   "cell_type": "code",
   "execution_count": null,
   "id": "1690f177-476a-48ed-9982-9eede6d78f21",
   "metadata": {},
   "outputs": [],
   "source": [
    "# distribution pyramid graph of ages\n",
    "# setting up the figure and axes\n",
    "plt.figure(figsize=(10,5))\n",
    "sns.set(style=\"whitegrid\")\n",
    "\n",
    "# setting up the male population (in negative for left side)\n",
    "sns.barplot(data= df_agg,\n",
    "            x= -df_agg['male'],\n",
    "            y= df_agg['AgeGroup'],\n",
    "            color= 'orange',\n",
    "            label= 'Male')\n",
    "\n",
    "# setting up the female population\n",
    "sns.barplot(data= df_agg,\n",
    "            x= df_agg['female'],\n",
    "            y= df_agg['AgeGroup'],\n",
    "            color= 'purple',\n",
    "            label= 'Female')\n",
    "\n",
    "# Add data labels for male population\n",
    "for index, value in enumerate(df_agg['male']):\n",
    "    plt.text(-value, index, f'{value}', color='black', \n",
    "             ha='right', va='center')\n",
    "\n",
    "# Add data labels for female population\n",
    "for index, value in enumerate(df_agg['female']):\n",
    "    plt.text(value, index, f'{value}', color='black', \n",
    "             ha='left', va='center')\n",
    "\n",
    "# customizing the axes\n",
    "plt.xlabel('Population')\n",
    "plt.ylabel('Age Group')\n",
    "plt.title('Count of employees by age and gender')\n",
    "plt.legend()\n",
    "\n",
    "# improving readability of x-axis labels\n",
    "max_population = max(df_agg['male'].max(), df_agg['female'].max())\n",
    "plt.xticks(ticks=[-max_population, -300, \n",
    "                  0, 300, max_population], \n",
    "           labels=[f'{max_population}', f'{300}', \n",
    "                   '0', f'{300}', f'{max_population}'])\n",
    "\n",
    "# displaying the graph\n",
    "plt.show()"
   ]
  },
  {
   "cell_type": "markdown",
   "id": "9a6b91f0-5965-4e9f-a6db-e3e6a32d9b81",
   "metadata": {},
   "source": [
    "## Tenure"
   ]
  },
  {
   "cell_type": "code",
   "execution_count": null,
   "id": "621d18d2-6c5d-48a2-919d-7ecafbb3cd64",
   "metadata": {},
   "outputs": [],
   "source": [
    "# ensuring that start and term dates are date type\n",
    "dei_data['start_date'] = pd.to_datetime(dei_data['start_date'])\n",
    "dei_data['term_date'] = pd.to_datetime(dei_data['term_date'])"
   ]
  },
  {
   "cell_type": "code",
   "execution_count": null,
   "id": "81bf8881-12dc-4d50-82bb-ed44719ec19c",
   "metadata": {},
   "outputs": [],
   "source": [
    "# simple data profiling on the tenure column\n",
    "print(f\"Tenure: min= {dei_data['tenure'].min()}\")\n",
    "print(f\"Tenure: max= {dei_data['tenure'].max()}\")\n",
    "print(f\"Tenure: avg= {dei_data['tenure'].mean().round(0)}\")\n",
    "print(f\"Tenure: stdev= {dei_data['tenure'].std()}\")\n",
    "print(f\"Tenure: 1st quart= {np.percentile(a= dei_data['tenure'], q= 25)}\")\n",
    "print(f\"Tenure: 2nd quart= {np.percentile(a= dei_data['tenure'], q= 50)}\")\n",
    "print(f\"Tenure: 3rd quart= {np.percentile(a= dei_data['tenure'], q= 75)}\")"
   ]
  },
  {
   "cell_type": "code",
   "execution_count": null,
   "id": "8b1ce1e1-c867-4856-a092-e4fd532619ef",
   "metadata": {},
   "outputs": [],
   "source": [
    "# distribution bar graph of tenure\n",
    "tenure_graph_data = dei_data['tenure'].value_counts().sort_index()\n",
    "\n",
    "plt.figure(figsize= (10,5))\n",
    "plt.bar(tenure_graph_data.index, tenure_graph_data.values,\n",
    "        color= 'green', width= 0.6)\n",
    "plt.xlabel('Tenure (years)')\n",
    "plt.ylabel('Frequency')\n",
    "plt.title('Distribution of tenure')\n",
    "plt.show()"
   ]
  },
  {
   "cell_type": "code",
   "execution_count": null,
   "id": "24e87445-d526-41e2-bf8c-23d9d215a1af",
   "metadata": {},
   "outputs": [],
   "source": [
    "# creating tenure bins (e.g., < 1 year, 1-3, 3-5)\n",
    "tenure_bins= [0, 1.1, 3.1, 5.1, 10.1, 15.1, 30.1, 54]\n",
    "tenure_labels= ['< 1 year', '1-3 years', '3-5 years', '5-10 years',\n",
    "                '10-15 years', '15-30 years', '30+ years']\n",
    "dei_data['TenureGroup']= pd.cut(x= dei_data['tenure'],\n",
    "                                 bins= tenure_bins,\n",
    "                                 labels= tenure_labels,\n",
    "                                 right= False)\n",
    "\n",
    "# count of individuals per tenure group by gender\n",
    "tenure_agg= dei_data.groupby(['TenureGroup', 'gender']).size().unstack(\n",
    "    fill_value=0)\n",
    "tenure_agg= tenure_agg.reset_index()\n",
    "tenure_agg"
   ]
  },
  {
   "cell_type": "code",
   "execution_count": null,
   "id": "5711c96c-224c-430c-8798-a7bc52f54c9d",
   "metadata": {},
   "outputs": [],
   "source": [
    "# distribution pyramid of tenure\n",
    "# setting up the figure and axes\n",
    "plt.figure(figsize=(10,5))\n",
    "sns.set(style=\"whitegrid\")\n",
    "\n",
    "# setting up the male population (in negative for left side)\n",
    "sns.barplot(data= tenure_agg,\n",
    "            x= -tenure_agg['male'],\n",
    "            y= tenure_agg['TenureGroup'],\n",
    "            color= 'orange',\n",
    "            label= 'Male')\n",
    "\n",
    "# setting up the female population\n",
    "sns.barplot(data= tenure_agg,\n",
    "            x= tenure_agg['female'],\n",
    "            y= tenure_agg['TenureGroup'],\n",
    "            color= 'purple',\n",
    "            label= 'Female')\n",
    "\n",
    "# Add data labels for male population\n",
    "for index, value in enumerate(tenure_agg['male']):\n",
    "    plt.text(-value, index, f'{value}', color='black', \n",
    "             ha='right', va='center')\n",
    "\n",
    "# Add data labels for female population\n",
    "for index, value in enumerate(tenure_agg['female']):\n",
    "    plt.text(value, index, f'{value}', color='black', \n",
    "             ha='left', va='center')\n",
    "\n",
    "# customizing the axes\n",
    "plt.xlabel('Population')\n",
    "plt.ylabel('Tenure Group')\n",
    "plt.title('Count of employees by tenure and gender')\n",
    "plt.legend()\n",
    "\n",
    "# improving readability of x-axis labels\n",
    "max_population = max(tenure_agg['male'].max(), tenure_agg['female'].max())\n",
    "plt.xticks(ticks=[-max_population, -600, -400, -200, \n",
    "                  0, 200, 400, 600, max_population], \n",
    "           labels=[f'{max_population}', f'{600}', f'{400}', f'{200}',\n",
    "                   '0', f'{200}',f'{400}',f'{600}', f'{max_population}'])\n",
    "\n",
    "# displaying the graph\n",
    "plt.show()"
   ]
  },
  {
   "cell_type": "markdown",
   "id": "f8347afd-97a5-495f-8974-64c0f409994e",
   "metadata": {},
   "source": [
    "## Hiring and terminations"
   ]
  },
  {
   "cell_type": "code",
   "execution_count": null,
   "id": "1c773598-c2e3-47b6-9a25-29a82d9ea353",
   "metadata": {},
   "outputs": [],
   "source": [
    "# ensuring term dates and start dates are of correct data type\n",
    "dei_data['term_date'] = pd.to_datetime(dei_data['term_date'])\n",
    "dei_data['start_date'] = pd.to_datetime(dei_data['start_date'])\n",
    "\n",
    "# creating new columns with hiring & term years\n",
    "dei_data['TermYear'] = dei_data['term_date'].dt.year\n",
    "dei_data['StartYear'] = dei_data['start_date'].dt.year"
   ]
  },
  {
   "cell_type": "code",
   "execution_count": null,
   "id": "d83e4109-8c61-4e17-b033-d2aa909a18e4",
   "metadata": {
    "scrolled": true
   },
   "outputs": [],
   "source": [
    "# creating counts of new hires per year\n",
    "hiring_agg= dei_data.groupby(['StartYear']).size()\n",
    "hiring_agg= hiring_agg.reset_index()\n",
    "\n",
    "# ensuring columns have proper names\n",
    "hiring_agg.rename(columns={\"StartYear\":\"Year\", \n",
    "                           0:\"Hire\"},\n",
    "                 inplace=True)\n",
    "\n",
    "print(hiring_agg.columns)\n",
    "hiring_agg.sample(n=5)"
   ]
  },
  {
   "cell_type": "code",
   "execution_count": null,
   "id": "31c0c637-ef81-444d-9c1c-692b80c3b5e5",
   "metadata": {},
   "outputs": [],
   "source": [
    "# creating counts of terminations per year\n",
    "terms_agg= dei_data.groupby(['TermYear']).size()\n",
    "terms_agg= terms_agg.reset_index()\n",
    "\n",
    "# ensuring columns have proper names\n",
    "terms_agg.rename(columns={\"TermYear\":\"Year\",\n",
    "                          0:\"Term\"},\n",
    "                 inplace=True)\n",
    "\n",
    "print(terms_agg.columns)\n",
    "terms_agg.sample(n=5)"
   ]
  },
  {
   "cell_type": "code",
   "execution_count": null,
   "id": "dbfd6842-47a9-457c-8900-d40a723ac4ce",
   "metadata": {},
   "outputs": [],
   "source": [
    "# combining hires and departures\n",
    "ee_movements= pd.merge(hiring_agg, terms_agg,\n",
    "                       on='Year', how='outer')\n",
    "ee_movements.sample(n=5)"
   ]
  },
  {
   "cell_type": "code",
   "execution_count": null,
   "id": "cc134900-96b2-4e94-b735-a8f40dead25f",
   "metadata": {},
   "outputs": [],
   "source": [
    "# reshaping to fit graph format\n",
    "ee_movements_graph= pd.melt(ee_movements,\n",
    "                            id_vars= ['Year'],\n",
    "                            value_vars= ['Hire','Term'],\n",
    "                            var_name= 'Event',\n",
    "                            value_name= 'Count')\n",
    "\n",
    "ee_movements_graph.sample(n=5)"
   ]
  },
  {
   "cell_type": "code",
   "execution_count": null,
   "id": "1fbb6f6b-155e-42a5-bf34-c064172d767c",
   "metadata": {},
   "outputs": [],
   "source": [
    "# setting the graph\n",
    "plt.figure(figsize=(10,5))\n",
    "sns.set(style= 'whitegrid')\n",
    "sns.lineplot(data= ee_movements_graph,\n",
    "             x= 'Year',\n",
    "             y= 'Count',\n",
    "             hue= 'Event',\n",
    "             marker= 'o')\n",
    "\n",
    "# customizing the plot\n",
    "plt.title('Hires and departures 1970-2024')\n",
    "plt.xlabel('Year')\n",
    "plt.ylabel('Count')\n",
    "plt.legend(title='Event')\n",
    "plt.xticks(rotation=45)\n",
    "plt.tight_layout()\n",
    "\n",
    "plt.show()"
   ]
  },
  {
   "cell_type": "markdown",
   "id": "f582650d-b2ec-4556-97cc-5e4946f20786",
   "metadata": {},
   "source": [
    "## Geographical locations"
   ]
  },
  {
   "cell_type": "markdown",
   "id": "26a8933d-01fd-49f8-9aec-f1175144bdd3",
   "metadata": {},
   "source": [
    "The geographical shapefile required to display geographical data was downloaded from the Open Government Portal.\n",
    "\n",
    "Reference: Boundary Files, 2016 Census. Statistics Canada Catalogue no. 92-160-X.\n",
    "Available [here](https://open.canada.ca/data/en/dataset/a883eb14-0c0e-45c4-b8c4-b54c4a819edb)."
   ]
  },
  {
   "cell_type": "code",
   "execution_count": null,
   "id": "64d9b8a9-e463-4af6-8772-71e388b8906a",
   "metadata": {},
   "outputs": [],
   "source": [
    "# loading the shapefile into a variable\n",
    "canada= gpd.read_file('lpr_000b16a_e/lpr_000b16a_e.shp')\n",
    "print(canada.columns)\n",
    "canada.sample(n=5)"
   ]
  },
  {
   "cell_type": "code",
   "execution_count": null,
   "id": "1ab425c7-c186-4098-836e-00652c75cf2b",
   "metadata": {},
   "outputs": [],
   "source": [
    "# creating the count of employees per province\n",
    "province_agg= dei_data.groupby(['province']).size()\n",
    "province_agg= province_agg.reset_index()\n",
    "province_agg.rename(columns={0:'Count'},\n",
    "                    inplace= True)\n",
    "province_agg"
   ]
  },
  {
   "cell_type": "code",
   "execution_count": null,
   "id": "45602350-fbab-49db-915d-2e385c740ff5",
   "metadata": {},
   "outputs": [],
   "source": [
    "# merging employee data with geospatial data\n",
    "canada= canada.merge(province_agg, \n",
    "                     left_on= 'PRENAME',\n",
    "                     right_on= 'province')\n",
    "\n",
    "# Plot the map\n",
    "plt.style.use('tableau-colorblind10')\n",
    "fig, ax = plt.subplots(1, 1, figsize=(15, 10))\n",
    "\n",
    "canada.boundary.plot(ax=ax)\n",
    "canada.plot(column='Count', ax=ax, legend=True,\n",
    "            legend_kwds={'label': \"Number of Employees\",\n",
    "                         'orientation': \"horizontal\"})\n",
    "\n",
    "plt.title('Employee Count per Canadian Province')\n",
    "plt.show()"
   ]
  },
  {
   "cell_type": "code",
   "execution_count": null,
   "id": "9bffca35-43fe-490c-b9d2-c796dac7d6cb",
   "metadata": {},
   "outputs": [],
   "source": []
  }
 ],
 "metadata": {
  "kernelspec": {
   "display_name": "Python 3 (ipykernel)",
   "language": "python",
   "name": "python3"
  },
  "language_info": {
   "codemirror_mode": {
    "name": "ipython",
    "version": 3
   },
   "file_extension": ".py",
   "mimetype": "text/x-python",
   "name": "python",
   "nbconvert_exporter": "python",
   "pygments_lexer": "ipython3",
   "version": "3.10.14"
  }
 },
 "nbformat": 4,
 "nbformat_minor": 5
}
